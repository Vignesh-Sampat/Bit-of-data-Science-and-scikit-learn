{
 "cells": [
  {
   "cell_type": "markdown",
   "metadata": {
    "deletable": true,
    "editable": true
   },
   "source": [
    "# Regression\n",
    "\n",
    "We won't go over every model, in fact I will stick to as few as possible models but go over how they are used and what their commonalities are.\n",
    "\n",
    "We will first start off by importing some toy data."
   ]
  },
  {
   "cell_type": "code",
   "execution_count": 1,
   "metadata": {
    "collapsed": false,
    "deletable": true,
    "editable": true
   },
   "outputs": [],
   "source": [
    "import sklearn.datasets as datasets\n",
    "\n",
    "X, y = datasets.load_boston(return_X_y=True)"
   ]
  },
  {
   "cell_type": "code",
   "execution_count": 3,
   "metadata": {
    "collapsed": false
   },
   "outputs": [
    {
     "name": "stdout",
     "output_type": "stream",
     "text": [
      "24.0\n"
     ]
    }
   ],
   "source": [
    "print y[0]"
   ]
  },
  {
   "cell_type": "markdown",
   "metadata": {
    "deletable": true,
    "editable": true
   },
   "source": [
    "Next we will do the training. Models have two states:\n",
    "\n",
    "1. Instantiated\n",
    "2. Fit\n",
    "\n",
    "When we instantiate the model we specify the hyperparameters of the model and nothing else. "
   ]
  },
  {
   "cell_type": "code",
   "execution_count": 4,
   "metadata": {
    "collapsed": true,
    "deletable": true,
    "editable": true
   },
   "outputs": [],
   "source": [
    "from sklearn import linear_model\n",
    "\n",
    "linear_model.ElasticNet?"
   ]
  },
  {
   "cell_type": "code",
   "execution_count": 5,
   "metadata": {
    "collapsed": true,
    "deletable": true,
    "editable": true
   },
   "outputs": [],
   "source": [
    "m = linear_model.ElasticNet(alpha=.1, l1_ratio=.9)"
   ]
  },
  {
   "cell_type": "markdown",
   "metadata": {
    "deletable": true,
    "editable": true
   },
   "source": [
    "The next step is fitting the model"
   ]
  },
  {
   "cell_type": "code",
   "execution_count": 6,
   "metadata": {
    "collapsed": false,
    "deletable": true,
    "editable": true
   },
   "outputs": [
    {
     "data": {
      "text/plain": [
       "ElasticNet(alpha=0.1, copy_X=True, fit_intercept=True, l1_ratio=0.9,\n",
       "      max_iter=1000, normalize=False, positive=False, precompute=False,\n",
       "      random_state=None, selection='cyclic', tol=0.0001, warm_start=False)"
      ]
     },
     "execution_count": 6,
     "metadata": {},
     "output_type": "execute_result"
    }
   ],
   "source": [
    "m.fit(X, y)"
   ]
  },
  {
   "cell_type": "code",
   "execution_count": 7,
   "metadata": {
    "collapsed": false,
    "deletable": true,
    "editable": true
   },
   "outputs": [
    {
     "data": {
      "text/plain": [
       "array([-0.09726289,  0.04968684, -0.03860629,  0.96761815, -0.        ,\n",
       "        3.59541405, -0.0093816 , -1.16492427,  0.27719067, -0.01465229,\n",
       "       -0.77597068,  0.01026115, -0.57628314])"
      ]
     },
     "execution_count": 7,
     "metadata": {},
     "output_type": "execute_result"
    }
   ],
   "source": [
    "m.coef_"
   ]
  },
  {
   "cell_type": "code",
   "execution_count": 8,
   "metadata": {
    "collapsed": false,
    "deletable": true,
    "editable": true
   },
   "outputs": [
    {
     "data": {
      "text/plain": [
       "26.436572165133697"
      ]
     },
     "execution_count": 8,
     "metadata": {},
     "output_type": "execute_result"
    }
   ],
   "source": [
    "m.intercept_"
   ]
  },
  {
   "cell_type": "code",
   "execution_count": 9,
   "metadata": {
    "collapsed": false,
    "deletable": true,
    "editable": true
   },
   "outputs": [
    {
     "data": {
      "text/plain": [
       "array([ 30.77529215])"
      ]
     },
     "execution_count": 9,
     "metadata": {},
     "output_type": "execute_result"
    }
   ],
   "source": [
    "m.predict([X[0]])"
   ]
  },
  {
   "cell_type": "code",
   "execution_count": 10,
   "metadata": {
    "collapsed": false
   },
   "outputs": [
    {
     "data": {
      "text/plain": [
       "24.0"
      ]
     },
     "execution_count": 10,
     "metadata": {},
     "output_type": "execute_result"
    }
   ],
   "source": [
    "y[0]"
   ]
  },
  {
   "cell_type": "code",
   "execution_count": 11,
   "metadata": {
    "collapsed": false,
    "deletable": true,
    "editable": true
   },
   "outputs": [
    {
     "data": {
      "text/plain": [
       "0.72671419328402376"
      ]
     },
     "execution_count": 11,
     "metadata": {},
     "output_type": "execute_result"
    }
   ],
   "source": [
    "m.score(X, y)"
   ]
  },
  {
   "cell_type": "code",
   "execution_count": 12,
   "metadata": {
    "collapsed": true
   },
   "outputs": [],
   "source": [
    "m.score?"
   ]
  },
  {
   "cell_type": "markdown",
   "metadata": {
    "deletable": true,
    "editable": true
   },
   "source": [
    "## CV models\n",
    "\n",
    "Some of these models come with a CV model. "
   ]
  },
  {
   "cell_type": "code",
   "execution_count": 13,
   "metadata": {
    "collapsed": true,
    "deletable": true,
    "editable": true
   },
   "outputs": [],
   "source": [
    "linear_model.ElasticNetCV?"
   ]
  },
  {
   "cell_type": "code",
   "execution_count": 14,
   "metadata": {
    "collapsed": true,
    "deletable": true,
    "editable": true
   },
   "outputs": [],
   "source": [
    "m = linear_model.ElasticNetCV(\n",
    "    l1_ratio=[.1, .5, .7, .9, .95, .99, 1], \n",
    "    n_alphas=20)"
   ]
  },
  {
   "cell_type": "code",
   "execution_count": 15,
   "metadata": {
    "collapsed": false,
    "deletable": true,
    "editable": true
   },
   "outputs": [
    {
     "data": {
      "text/plain": [
       "ElasticNetCV(alphas=None, copy_X=True, cv=None, eps=0.001, fit_intercept=True,\n",
       "       l1_ratio=[0.1, 0.5, 0.7, 0.9, 0.95, 0.99, 1], max_iter=1000,\n",
       "       n_alphas=20, n_jobs=1, normalize=False, positive=False,\n",
       "       precompute='auto', random_state=None, selection='cyclic',\n",
       "       tol=0.0001, verbose=0)"
      ]
     },
     "execution_count": 15,
     "metadata": {},
     "output_type": "execute_result"
    }
   ],
   "source": [
    "m.fit(X, y)"
   ]
  },
  {
   "cell_type": "code",
   "execution_count": 16,
   "metadata": {
    "collapsed": false,
    "deletable": true,
    "editable": true
   },
   "outputs": [
    {
     "data": {
      "text/plain": [
       "array([[  7.24820428e+03,   5.03889940e+03,   3.50300657e+03,\n",
       "          2.43526493e+03,   1.69297864e+03,   1.17694655e+03,\n",
       "          8.18204764e+02,   5.68810058e+02,   3.95432655e+02,\n",
       "          2.74901933e+02,   1.91109843e+02,   1.32858186e+02,\n",
       "          9.23620541e+01,   6.42094347e+01,   4.46379364e+01,\n",
       "          3.10319718e+01,   2.15732033e+01,   1.49975355e+01,\n",
       "          1.04261786e+01,   7.24820428e+00],\n",
       "       [  1.44964086e+03,   1.00777988e+03,   7.00601313e+02,\n",
       "          4.87052986e+02,   3.38595727e+02,   2.35389310e+02,\n",
       "          1.63640953e+02,   1.13762012e+02,   7.90865309e+01,\n",
       "          5.49803866e+01,   3.82219687e+01,   2.65716373e+01,\n",
       "          1.84724108e+01,   1.28418869e+01,   8.92758728e+00,\n",
       "          6.20639437e+00,   4.31464065e+00,   2.99950710e+00,\n",
       "          2.08523573e+00,   1.44964086e+00],\n",
       "       [  1.03545775e+03,   7.19842772e+02,   5.00429509e+02,\n",
       "          3.47894990e+02,   2.41854091e+02,   1.68135222e+02,\n",
       "          1.16886395e+02,   8.12585797e+01,   5.64903792e+01,\n",
       "          3.92717047e+01,   2.73014062e+01,   1.89797409e+01,\n",
       "          1.31945792e+01,   9.17277638e+00,   6.37684806e+00,\n",
       "          4.43313883e+00,   3.08188618e+00,   2.14250507e+00,\n",
       "          1.48945409e+00,   1.03545775e+00],\n",
       "       [  8.05356032e+02,   5.59877711e+02,   3.89222952e+02,\n",
       "          2.70584992e+02,   1.88108737e+02,   1.30771839e+02,\n",
       "          9.09116405e+01,   6.32011175e+01,   4.39369616e+01,\n",
       "          3.05446592e+01,   2.12344270e+01,   1.47620207e+01,\n",
       "          1.02624505e+01,   7.13438163e+00,   4.95977071e+00,\n",
       "          3.44799687e+00,   2.39702259e+00,   1.66639283e+00,\n",
       "          1.15846429e+00,   8.05356032e-01],\n",
       "       [  7.62968872e+02,   5.30410464e+02,   3.68737533e+02,\n",
       "          2.56343677e+02,   1.78208277e+02,   1.23889111e+02,\n",
       "          8.61268173e+01,   5.98747429e+01,   4.16244900e+01,\n",
       "          2.89370456e+01,   2.01168256e+01,   1.39850723e+01,\n",
       "          9.72232148e+00,   6.75888786e+00,   4.69873015e+00,\n",
       "          3.26652335e+00,   2.27086350e+00,   1.57868795e+00,\n",
       "          1.09749249e+00,   7.62968872e-01],\n",
       "       [  7.32141847e+02,   5.08979738e+02,   3.53839047e+02,\n",
       "          2.45986357e+02,   1.71007943e+02,   1.18883490e+02,\n",
       "          8.26469459e+01,   5.74555614e+01,   3.99426924e+01,\n",
       "          2.77678720e+01,   1.93040246e+01,   1.34200188e+01,\n",
       "          9.32950041e+00,   6.48580148e+00,   4.50888247e+00,\n",
       "          3.13454261e+00,   2.17911144e+00,   1.51490258e+00,\n",
       "          1.05314936e+00,   7.32141847e-01],\n",
       "       [  7.24820428e+02,   5.03889940e+02,   3.50300657e+02,\n",
       "          2.43526493e+02,   1.69297864e+02,   1.17694655e+02,\n",
       "          8.18204764e+01,   5.68810058e+01,   3.95432655e+01,\n",
       "          2.74901933e+01,   1.91109843e+01,   1.32858186e+01,\n",
       "          9.23620541e+00,   6.42094347e+00,   4.46379364e+00,\n",
       "          3.10319718e+00,   2.15732033e+00,   1.49975355e+00,\n",
       "          1.04261786e+00,   7.24820428e-01]])"
      ]
     },
     "execution_count": 16,
     "metadata": {},
     "output_type": "execute_result"
    }
   ],
   "source": [
    "m.alphas_"
   ]
  },
  {
   "cell_type": "code",
   "execution_count": 17,
   "metadata": {
    "collapsed": false,
    "deletable": true,
    "editable": true
   },
   "outputs": [
    {
     "data": {
      "text/plain": [
       "array([[[  52.99352711,  154.44755359,  128.19461458],\n",
       "        [  56.20888556,  154.44755359,  128.19461458],\n",
       "        [  59.56775676,  140.16255422,  128.19461458],\n",
       "        [  62.56212311,  130.01462871,  128.19461458],\n",
       "        [  65.00930369,  122.90575445,  128.19461458],\n",
       "        [  66.28730005,  117.98424417,   89.26949358],\n",
       "        [  67.25358679,  114.65331176,   70.61239504],\n",
       "        [  67.97056805,  112.38454687,   63.7980148 ],\n",
       "        [  67.85053984,  110.83163868,   61.18157603],\n",
       "        [  66.09102819,  107.9605525 ,   62.10261909],\n",
       "        [  61.99689709,  103.17809863,   62.77477574],\n",
       "        [  57.54356331,   98.64460928,   63.27678679],\n",
       "        [  53.0199392 ,   94.4088015 ,   62.99800295],\n",
       "        [  48.64224565,   90.29231151,   61.72902098],\n",
       "        [  44.988768  ,   85.79807305,   60.63785356],\n",
       "        [  40.75282972,   81.64986225,   60.67928842],\n",
       "        [  36.39345971,   77.94892242,   61.02133599],\n",
       "        [  32.3990042 ,   74.14840534,   61.93407876],\n",
       "        [  29.11145509,   70.06715033,   59.27680967],\n",
       "        [  26.48826711,   66.30337267,   56.22829692]],\n",
       "\n",
       "       [[  53.62143998,  154.44755359,  128.19461458],\n",
       "        [  57.34584131,  154.44755359,  128.19461458],\n",
       "        [  60.86959198,  138.93644966,  128.19461458],\n",
       "        [  63.78307314,  128.61253748,  128.19461458],\n",
       "        [  66.03682172,  121.75998523,  128.19461458],\n",
       "        [  67.11619454,  117.13480265,   83.5618542 ],\n",
       "        [  67.82674754,  114.04216051,   67.05368441],\n",
       "        [  68.36897539,  111.95175258,   62.94458311],\n",
       "        [  67.88885292,  110.52714563,   62.21954927],\n",
       "        [  65.32586546,  104.91622581,   63.37203786],\n",
       "        [  54.00684774,   94.35461081,   58.02373564],\n",
       "        [  44.75381293,   86.11305335,   54.68084286],\n",
       "        [  38.57289216,   80.0438117 ,   52.94459385],\n",
       "        [  34.92134077,   76.04984531,   53.79502276],\n",
       "        [  32.89735339,   73.34444794,   57.63084032],\n",
       "        [  30.08802894,   71.43340714,   63.5661666 ],\n",
       "        [  26.44135426,   69.0217744 ,   68.87347694],\n",
       "        [  23.97576647,   64.7477677 ,   71.62848178],\n",
       "        [  22.23990785,   60.80436382,   71.22743296],\n",
       "        [  20.92239388,   57.46783917,   55.92833035]],\n",
       "\n",
       "       [[  53.67763074,  154.44755359,  128.19461458],\n",
       "        [  57.4416009 ,  154.44755359,  128.19461458],\n",
       "        [  60.97421974,  138.84078974,  128.19461458],\n",
       "        [  63.87788484,  128.50626529,  128.19461458],\n",
       "        [  66.11466488,  121.67487867,  128.19461458],\n",
       "        [  67.17865921,  117.07285968,   83.09838936],\n",
       "        [  67.868993  ,  113.99801092,   66.81046705],\n",
       "        [  68.39798051,  111.92061929,   62.91590113],\n",
       "        [  67.88135692,  110.50531575,   62.33324859],\n",
       "        [  65.24391072,  103.72059477,   63.32739247],\n",
       "        [  51.37960645,   91.39224472,   55.91601143],\n",
       "        [  41.64562084,   83.01790391,   52.43837755],\n",
       "        [  36.05177294,   77.41663558,   51.73803715],\n",
       "        [  32.99597356,   73.89898834,   53.50096412],\n",
       "        [  31.56751207,   71.70032165,   58.39842678],\n",
       "        [  29.03050521,   70.24479546,   65.89886142],\n",
       "        [  25.11338554,   67.97548669,   71.87868946],\n",
       "        [  22.96503451,   63.22232994,   72.25165563],\n",
       "        [  21.74773538,   59.21193379,   71.12768586],\n",
       "        [  20.37839188,   56.21513283,   57.78560368]],\n",
       "\n",
       "       [[  53.70965754,  154.44755359,  128.19461458],\n",
       "        [  57.49577959,  154.44755359,  128.19461458],\n",
       "        [  61.03309529,  138.78713521,  128.19461458],\n",
       "        [  63.93103153,  128.44685029,  128.19461458],\n",
       "        [  66.15818188,  121.62740023,  128.19461458],\n",
       "        [  67.21356407,  117.03837373,   82.83740045],\n",
       "        [  67.89254089,  113.97345547,   66.67653414],\n",
       "        [  68.41412659,  111.90331204,   62.90219292],\n",
       "        [  67.87620425,  110.49318359,   62.39948906],\n",
       "        [  65.19614848,  102.58027575,   63.23242639],\n",
       "        [  49.23060143,   89.16899324,   54.20821513],\n",
       "        [  39.47492654,   80.91621178,   50.9381647 ],\n",
       "        [  34.45696709,   75.75380166,   51.17563073],\n",
       "        [  31.94072189,   72.57876854,   53.56880479],\n",
       "        [  30.83654296,   70.71314419,   59.20581008],\n",
       "        [  28.37102055,   69.55048433,   67.98802779],\n",
       "        [  24.19436777,   67.31577209,   74.08916784],\n",
       "        [  22.41582568,   62.14531291,   69.28427639],\n",
       "        [  21.67929091,   58.14122334,   66.26657122],\n",
       "        [  19.86901805,   55.40299661,   65.44903128]],\n",
       "\n",
       "       [[  53.7156219 ,  154.44755359,  128.19461458],\n",
       "        [  57.5058375 ,  154.44755359,  128.19461458],\n",
       "        [  61.04399986,  138.77721133,  128.19461458],\n",
       "        [  63.94085892,  128.43587602,  128.19461458],\n",
       "        [  66.1662194 ,  121.61863877,  128.19461458],\n",
       "        [  67.22000981,  117.03201535,   82.78904803],\n",
       "        [  67.89688478,  113.96892993,   66.65196078],\n",
       "        [  68.41710338,  111.90012302,   62.89984441],\n",
       "        [  67.87517256,  110.49094837,   62.4119414 ],\n",
       "        [  65.18716855,  102.32014309,   63.20351385],\n",
       "        [  48.75327268,   88.6977516 ,   53.83356699],\n",
       "        [  39.03382597,   80.49269968,   50.64877459],\n",
       "        [  34.14875565,   75.42973768,   51.09278875],\n",
       "        [  31.74610905,   72.31227916,   53.60966687],\n",
       "        [  30.70456058,   70.5251664 ,   59.40282681],\n",
       "        [  28.23532452,   69.41987943,   68.47668891],\n",
       "        [  24.00514245,   67.18488387,   74.41018408],\n",
       "        [  22.32546828,   61.92110572,   67.46172169],\n",
       "        [  21.7117558 ,   57.925482  ,   64.91636953],\n",
       "        [  19.71265109,   55.22433571,   65.6578308 ]],\n",
       "\n",
       "       [[  53.71997239,  154.44755359,  128.19461458],\n",
       "        [  57.51316763,  154.44755359,  128.19461458],\n",
       "        [  61.05194206,  138.76998608,  128.19461458],\n",
       "        [  63.94801341,  128.42788897,  128.19461458],\n",
       "        [  66.17206902,  121.61226378,  128.19461458],\n",
       "        [  67.22470073,  117.02738997,   82.75382861],\n",
       "        [  67.90004516,  113.9656382 ,   66.63410903],\n",
       "        [  68.4192688 ,  111.89780356,   62.89817121],\n",
       "        [  67.8744056 ,  110.48932269,   62.42104752],\n",
       "        [  65.18060151,  102.11848633,   63.18042276],\n",
       "        [  48.38512025,   88.34094184,   53.54719658],\n",
       "        [  38.70448142,   80.17691166,   50.43058033],\n",
       "        [  33.92211986,   75.19041298,   51.03852865],\n",
       "        [  31.60493053,   72.11569129,   53.646182  ],\n",
       "        [  30.60957843,   70.38723588,   59.55855743],\n",
       "        [  28.13274471,   69.32436158,   68.85892344],\n",
       "        [  23.86334956,   67.08738284,   74.47395913],\n",
       "        [  22.26393273,   61.75198982,   65.56098663],\n",
       "        [  21.75325967,   57.76342701,   64.34289039],\n",
       "        [  19.57267743,   55.09183582,   66.46073951]],\n",
       "\n",
       "       [[  53.72100722,  154.44755359,  128.19461458],\n",
       "        [  57.51491043,  154.44755359,  128.19461458],\n",
       "        [  61.05382977,  138.76826911,  128.19461458],\n",
       "        [  63.9497135 ,  128.42599133,  128.19461458],\n",
       "        [  66.17345883,  121.61074934,  128.19461458],\n",
       "        [  67.22581521,  117.0262913 ,   82.74545731],\n",
       "        [  67.9007959 ,  113.96485636,   66.6298717 ],\n",
       "        [  68.41978315,  111.89725267,   62.89777814],\n",
       "        [  67.87422138,  110.48893659,   62.42321643],\n",
       "        [  65.17903733,  102.06893666,   63.17455187],\n",
       "        [  48.29552164,   88.25437896,   53.47738288],\n",
       "        [  38.62519315,   80.10092453,   50.37837147],\n",
       "        [  33.8680019 ,   75.13311699,   51.02646161],\n",
       "        [  31.57145959,   72.06865394,   53.65574395],\n",
       "        [  30.58706114,   70.3543257 ,   59.59722424],\n",
       "        [  28.10774397,   69.3016101 ,   68.95331897],\n",
       "        [  23.82899618,   67.06391984,   74.4389133 ],\n",
       "        [  22.24999171,   61.71103514,   65.04338147],\n",
       "        [  21.76599825,   57.72465078,   64.38174288],\n",
       "        [  19.5352211 ,   55.06004399,   66.85494365]]])"
      ]
     },
     "execution_count": 17,
     "metadata": {},
     "output_type": "execute_result"
    }
   ],
   "source": [
    "m.mse_path_"
   ]
  },
  {
   "cell_type": "code",
   "execution_count": 18,
   "metadata": {
    "collapsed": false,
    "deletable": true,
    "editable": true
   },
   "outputs": [
    {
     "data": {
      "text/plain": [
       "1.4496408567545191"
      ]
     },
     "execution_count": 18,
     "metadata": {},
     "output_type": "execute_result"
    }
   ],
   "source": [
    "m.alpha_"
   ]
  },
  {
   "cell_type": "code",
   "execution_count": 19,
   "metadata": {
    "collapsed": false
   },
   "outputs": [
    {
     "data": {
      "text/plain": [
       "0.5"
      ]
     },
     "execution_count": 19,
     "metadata": {},
     "output_type": "execute_result"
    }
   ],
   "source": [
    "m.l1_ratio_"
   ]
  },
  {
   "cell_type": "code",
   "execution_count": 20,
   "metadata": {
    "collapsed": false,
    "deletable": true,
    "editable": true
   },
   "outputs": [
    {
     "data": {
      "text/plain": [
       "array([ 30.89195578])"
      ]
     },
     "execution_count": 20,
     "metadata": {},
     "output_type": "execute_result"
    }
   ],
   "source": [
    "m.predict([X[0]])"
   ]
  },
  {
   "cell_type": "code",
   "execution_count": 21,
   "metadata": {
    "collapsed": false,
    "deletable": true,
    "editable": true
   },
   "outputs": [
    {
     "data": {
      "text/plain": [
       "0.67126663940540476"
      ]
     },
     "execution_count": 21,
     "metadata": {},
     "output_type": "execute_result"
    }
   ],
   "source": [
    "m.score(X, y)"
   ]
  },
  {
   "cell_type": "markdown",
   "metadata": {
    "deletable": true,
    "editable": true
   },
   "source": [
    "# Classification\n",
    "\n",
    "Okay this one is quite quick. And is very much so the same as the above. So to cut to the chase, I'll train a Cross Validated Logistic Regression."
   ]
  },
  {
   "cell_type": "code",
   "execution_count": 22,
   "metadata": {
    "collapsed": true,
    "deletable": true,
    "editable": true
   },
   "outputs": [],
   "source": [
    "X, y = datasets.load_iris(return_X_y=True)"
   ]
  },
  {
   "cell_type": "code",
   "execution_count": 25,
   "metadata": {
    "collapsed": false
   },
   "outputs": [
    {
     "name": "stdout",
     "output_type": "stream",
     "text": [
      "Iris Plants Database\n",
      "====================\n",
      "\n",
      "Notes\n",
      "-----\n",
      "Data Set Characteristics:\n",
      "    :Number of Instances: 150 (50 in each of three classes)\n",
      "    :Number of Attributes: 4 numeric, predictive attributes and the class\n",
      "    :Attribute Information:\n",
      "        - sepal length in cm\n",
      "        - sepal width in cm\n",
      "        - petal length in cm\n",
      "        - petal width in cm\n",
      "        - class:\n",
      "                - Iris-Setosa\n",
      "                - Iris-Versicolour\n",
      "                - Iris-Virginica\n",
      "    :Summary Statistics:\n",
      "\n",
      "    ============== ==== ==== ======= ===== ====================\n",
      "                    Min  Max   Mean    SD   Class Correlation\n",
      "    ============== ==== ==== ======= ===== ====================\n",
      "    sepal length:   4.3  7.9   5.84   0.83    0.7826\n",
      "    sepal width:    2.0  4.4   3.05   0.43   -0.4194\n",
      "    petal length:   1.0  6.9   3.76   1.76    0.9490  (high!)\n",
      "    petal width:    0.1  2.5   1.20  0.76     0.9565  (high!)\n",
      "    ============== ==== ==== ======= ===== ====================\n",
      "\n",
      "    :Missing Attribute Values: None\n",
      "    :Class Distribution: 33.3% for each of 3 classes.\n",
      "    :Creator: R.A. Fisher\n",
      "    :Donor: Michael Marshall (MARSHALL%PLU@io.arc.nasa.gov)\n",
      "    :Date: July, 1988\n",
      "\n",
      "This is a copy of UCI ML iris datasets.\n",
      "http://archive.ics.uci.edu/ml/datasets/Iris\n",
      "\n",
      "The famous Iris database, first used by Sir R.A Fisher\n",
      "\n",
      "This is perhaps the best known database to be found in the\n",
      "pattern recognition literature.  Fisher's paper is a classic in the field and\n",
      "is referenced frequently to this day.  (See Duda & Hart, for example.)  The\n",
      "data set contains 3 classes of 50 instances each, where each class refers to a\n",
      "type of iris plant.  One class is linearly separable from the other 2; the\n",
      "latter are NOT linearly separable from each other.\n",
      "\n",
      "References\n",
      "----------\n",
      "   - Fisher,R.A. \"The use of multiple measurements in taxonomic problems\"\n",
      "     Annual Eugenics, 7, Part II, 179-188 (1936); also in \"Contributions to\n",
      "     Mathematical Statistics\" (John Wiley, NY, 1950).\n",
      "   - Duda,R.O., & Hart,P.E. (1973) Pattern Classification and Scene Analysis.\n",
      "     (Q327.D83) John Wiley & Sons.  ISBN 0-471-22361-1.  See page 218.\n",
      "   - Dasarathy, B.V. (1980) \"Nosing Around the Neighborhood: A New System\n",
      "     Structure and Classification Rule for Recognition in Partially Exposed\n",
      "     Environments\".  IEEE Transactions on Pattern Analysis and Machine\n",
      "     Intelligence, Vol. PAMI-2, No. 1, 67-71.\n",
      "   - Gates, G.W. (1972) \"The Reduced Nearest Neighbor Rule\".  IEEE Transactions\n",
      "     on Information Theory, May 1972, 431-433.\n",
      "   - See also: 1988 MLC Proceedings, 54-64.  Cheeseman et al\"s AUTOCLASS II\n",
      "     conceptual clustering system finds 3 classes in the data.\n",
      "   - Many, many more ...\n",
      "\n"
     ]
    }
   ],
   "source": [
    "d = datasets.load_iris()\n",
    "\n",
    "print d.DESCR"
   ]
  },
  {
   "cell_type": "code",
   "execution_count": 26,
   "metadata": {
    "collapsed": true,
    "deletable": true,
    "editable": true
   },
   "outputs": [],
   "source": [
    "linear_model.LogisticRegressionCV?"
   ]
  },
  {
   "cell_type": "markdown",
   "metadata": {
    "deletable": true,
    "editable": true
   },
   "source": [
    "One thing you might notice here is that we have the option of parallelization!"
   ]
  },
  {
   "cell_type": "code",
   "execution_count": 27,
   "metadata": {
    "collapsed": true,
    "deletable": true,
    "editable": true
   },
   "outputs": [],
   "source": [
    "m = linear_model.LogisticRegressionCV(Cs=10, n_jobs=2)"
   ]
  },
  {
   "cell_type": "code",
   "execution_count": 28,
   "metadata": {
    "collapsed": false,
    "deletable": true,
    "editable": true
   },
   "outputs": [
    {
     "data": {
      "text/plain": [
       "LogisticRegressionCV(Cs=10, class_weight=None, cv=None, dual=False,\n",
       "           fit_intercept=True, intercept_scaling=1.0, max_iter=100,\n",
       "           multi_class='ovr', n_jobs=2, penalty='l2', random_state=None,\n",
       "           refit=True, scoring=None, solver='lbfgs', tol=0.0001, verbose=0)"
      ]
     },
     "execution_count": 28,
     "metadata": {},
     "output_type": "execute_result"
    }
   ],
   "source": [
    "m.fit(X, y)"
   ]
  },
  {
   "cell_type": "code",
   "execution_count": 29,
   "metadata": {
    "collapsed": false,
    "deletable": true,
    "editable": true
   },
   "outputs": [
    {
     "data": {
      "text/plain": [
       "array([[-0.28578072,  0.26274729, -1.01008572, -0.41231485],\n",
       "       [-0.24956472, -2.77466308,  1.2883359 , -2.68062917],\n",
       "       [-1.88077544, -2.43946122,  5.90967252,  7.34015856]])"
      ]
     },
     "execution_count": 29,
     "metadata": {},
     "output_type": "execute_result"
    }
   ],
   "source": [
    "m.coef_"
   ]
  },
  {
   "cell_type": "code",
   "execution_count": 30,
   "metadata": {
    "collapsed": false,
    "deletable": true,
    "editable": true
   },
   "outputs": [
    {
     "data": {
      "text/plain": [
       "array([0])"
      ]
     },
     "execution_count": 30,
     "metadata": {},
     "output_type": "execute_result"
    }
   ],
   "source": [
    "m.predict([X[0]])"
   ]
  },
  {
   "cell_type": "code",
   "execution_count": 31,
   "metadata": {
    "collapsed": false
   },
   "outputs": [
    {
     "data": {
      "text/plain": [
       "0"
      ]
     },
     "execution_count": 31,
     "metadata": {},
     "output_type": "execute_result"
    }
   ],
   "source": [
    "y[0]"
   ]
  },
  {
   "cell_type": "code",
   "execution_count": 32,
   "metadata": {
    "collapsed": false,
    "deletable": true,
    "editable": true
   },
   "outputs": [
    {
     "data": {
      "text/plain": [
       "array([[  9.12028942e-01,   8.79710577e-02,   4.00346939e-14]])"
      ]
     },
     "execution_count": 32,
     "metadata": {},
     "output_type": "execute_result"
    }
   ],
   "source": [
    "m.predict_proba([X[0]])"
   ]
  },
  {
   "cell_type": "code",
   "execution_count": 33,
   "metadata": {
    "collapsed": false,
    "deletable": true,
    "editable": true
   },
   "outputs": [
    {
     "data": {
      "text/plain": [
       "array([[ -0.09208355,  -2.43074741, -30.84902997]])"
      ]
     },
     "execution_count": 33,
     "metadata": {},
     "output_type": "execute_result"
    }
   ],
   "source": [
    "m.predict_log_proba([X[0]])"
   ]
  },
  {
   "cell_type": "code",
   "execution_count": 34,
   "metadata": {
    "collapsed": false,
    "deletable": true,
    "editable": true
   },
   "outputs": [
    {
     "data": {
      "text/plain": [
       "0.96666666666666667"
      ]
     },
     "execution_count": 34,
     "metadata": {},
     "output_type": "execute_result"
    }
   ],
   "source": [
    "m.score(X, y)"
   ]
  },
  {
   "cell_type": "code",
   "execution_count": 35,
   "metadata": {
    "collapsed": true,
    "deletable": true,
    "editable": true
   },
   "outputs": [],
   "source": [
    "m.score?"
   ]
  },
  {
   "cell_type": "code",
   "execution_count": null,
   "metadata": {
    "collapsed": true,
    "deletable": true,
    "editable": true
   },
   "outputs": [],
   "source": []
  },
  {
   "cell_type": "code",
   "execution_count": null,
   "metadata": {
    "collapsed": true,
    "deletable": true,
    "editable": true
   },
   "outputs": [],
   "source": []
  }
 ],
 "metadata": {
  "kernelspec": {
   "display_name": "Python 2",
   "language": "python",
   "name": "python2"
  },
  "language_info": {
   "codemirror_mode": {
    "name": "ipython",
    "version": 2
   },
   "file_extension": ".py",
   "mimetype": "text/x-python",
   "name": "python",
   "nbconvert_exporter": "python",
   "pygments_lexer": "ipython2",
   "version": "2.7.10"
  }
 },
 "nbformat": 4,
 "nbformat_minor": 2
}
