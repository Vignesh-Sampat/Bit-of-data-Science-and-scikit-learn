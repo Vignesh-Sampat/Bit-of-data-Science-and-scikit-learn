{
 "cells": [
  {
   "cell_type": "markdown",
   "metadata": {
    "deletable": true,
    "editable": true
   },
   "source": [
    "# Tuning the hyper-parameters of an estimator\n",
    "\n",
    "Hyper-parameters are parameters that are not directly learnt within estimators. In scikit-learn they are passed as arguments to the constructor of the estimator classes. Typical examples include C, kernel and gamma for Support Vector Classifier, alpha for Lasso, etc.\n",
    "\n",
    "It is possible and recommended to search the hyper-parameter space for the best Cross-validation: evaluating estimator performance score.\n",
    "\n",
    "Any parameter provided when constructing an estimator may be optimized in this manner. Specifically, to find the names and current values for all parameters for a given estimator, use:\n",
    "\n",
    "`estimator.get_params()`\n",
    "\n",
    "A search consists of:\n",
    "* an estimator (regressor or classifier such as sklearn.svm.SVC());\n",
    "* a parameter space;\n",
    "* a method for searching or sampling candidates;\n",
    "* a cross-validation scheme; and\n",
    "* a score function.\n",
    "\n",
    "Some models allow for specialized, efficient parameter search strategies, outlined below. Two generic approaches to sampling search candidates are provided in scikit-learn: for given values, GridSearchCV exhaustively considers all parameter combinations, while RandomizedSearchCV can sample a given number of candidates from a parameter space with a specified distribution. After describing these tools we detail best practice applicable to both approaches.\n",
    "\n",
    "Note that it is common that a small subset of those parameters can have a large impact on the predictive or computation performance of the model while others can be left to their default values. It is recommend to read the docstring of the estimator class to get a finer understanding of their expected behavior, possibly by reading the enclosed reference to the literature."
   ]
  },
  {
   "cell_type": "markdown",
   "metadata": {
    "deletable": true,
    "editable": true
   },
   "source": [
    "## GridSearch\n",
    "\n",
    "The grid search provided by GridSearchCV exhaustively generates candidates from a grid of parameter values specified with the param_grid parameter. For instance, the following param_grid:"
   ]
  },
  {
   "cell_type": "code",
   "execution_count": 1,
   "metadata": {
    "collapsed": true,
    "deletable": true,
    "editable": true
   },
   "outputs": [],
   "source": [
    "param_grid = [\n",
    "  {'C': [1, 10, 100, 1000], 'kernel': ['linear']},\n",
    "  {'C': [1, 10, 100, 1000], 'gamma': [0.001, 0.0001], 'kernel': ['rbf']},\n",
    " ]"
   ]
  },
  {
   "cell_type": "markdown",
   "metadata": {
    "deletable": true,
    "editable": true
   },
   "source": [
    "specifies that two grids should be explored: one with a linear kernel and C values in [1, 10, 100, 1000], and the second one with an RBF kernel, and the cross-product of C values ranging in [1, 10, 100, 1000] and gamma values in [0.001, 0.0001].\n",
    "\n",
    "The GridSearchCV instance implements the usual estimator API: when “fitting” it on a dataset all the possible combinations of parameter values are evaluated and the best combination is retained."
   ]
  },
  {
   "cell_type": "code",
   "execution_count": 2,
   "metadata": {
    "collapsed": true,
    "deletable": true,
    "editable": true
   },
   "outputs": [],
   "source": [
    "from sklearn.model_selection import GridSearchCV\n",
    "\n",
    "GridSearchCV?"
   ]
  },
  {
   "cell_type": "code",
   "execution_count": 3,
   "metadata": {
    "collapsed": false,
    "deletable": true,
    "editable": true
   },
   "outputs": [
    {
     "data": {
      "text/plain": [
       "GridSearchCV(cv=5, error_score='raise',\n",
       "       estimator=SVC(C=1, cache_size=200, class_weight=None, coef0=0.0,\n",
       "  decision_function_shape=None, degree=3, gamma='auto', kernel='rbf',\n",
       "  max_iter=-1, probability=False, random_state=None, shrinking=True,\n",
       "  tol=0.001, verbose=False),\n",
       "       fit_params={}, iid=True, n_jobs=1,\n",
       "       param_grid=[{'kernel': ['rbf'], 'C': [1, 10, 100, 1000], 'gamma': [0.001, 0.0001]}, {'kernel': ['linear'], 'C': [1, 10, 100, 1000]}],\n",
       "       pre_dispatch='2*n_jobs', refit=True, return_train_score=True,\n",
       "       scoring='f1_macro', verbose=0)"
      ]
     },
     "execution_count": 3,
     "metadata": {},
     "output_type": "execute_result"
    }
   ],
   "source": [
    "from sklearn import datasets\n",
    "from sklearn.model_selection import train_test_split\n",
    "from sklearn.metrics import classification_report\n",
    "from sklearn.svm import SVC\n",
    "\n",
    "digits = datasets.load_digits()\n",
    "\n",
    "n_samples = len(digits.images)\n",
    "X = digits.images.reshape((n_samples, -1))\n",
    "y = digits.target\n",
    "\n",
    "# Split the dataset in two equal parts\n",
    "X_train, X_test, y_train, y_test = train_test_split(\n",
    "    X, y, test_size=0.5, random_state=0)\n",
    "\n",
    "tuned_parameters = [{'kernel': ['rbf'], 'gamma': [1e-3, 1e-4],\n",
    "                     'C': [1, 10, 100, 1000]},\n",
    "                    {'kernel': ['linear'], 'C': [1, 10, 100, 1000]}]\n",
    "\n",
    "\n",
    "\n",
    "clf = GridSearchCV(SVC(C=1), tuned_parameters, cv=5,\n",
    "                       scoring='f1_macro')\n",
    "clf.fit(X_train, y_train)"
   ]
  },
  {
   "cell_type": "code",
   "execution_count": 4,
   "metadata": {
    "collapsed": false,
    "deletable": true,
    "editable": true
   },
   "outputs": [
    {
     "data": {
      "text/plain": [
       "{'C': 10, 'gamma': 0.001, 'kernel': 'rbf'}"
      ]
     },
     "execution_count": 4,
     "metadata": {},
     "output_type": "execute_result"
    }
   ],
   "source": [
    "clf.best_params_\n"
   ]
  },
  {
   "cell_type": "code",
   "execution_count": 5,
   "metadata": {
    "collapsed": false,
    "deletable": true,
    "editable": true
   },
   "outputs": [
    {
     "data": {
      "text/plain": [
       "{'mean_fit_time': array([ 0.05294981,  0.04619932,  0.05392065,  0.02693901,  0.05347157,\n",
       "         0.02645354,  0.05356345,  0.02492204,  0.02082181,  0.02132759,\n",
       "         0.02084498,  0.0199594 ]),\n",
       " 'mean_score_time': array([ 0.01215878,  0.01334348,  0.01125422,  0.00844197,  0.01104765,\n",
       "         0.00820484,  0.01102276,  0.00877604,  0.00709801,  0.00607562,\n",
       "         0.00648918,  0.00706677]),\n",
       " 'mean_test_score': array([ 0.98558453,  0.95701735,  0.98693226,  0.98097324,  0.98693226,\n",
       "         0.98115042,  0.98693226,  0.98115042,  0.97273826,  0.97273826,\n",
       "         0.97273826,  0.97273826]),\n",
       " 'mean_train_score': array([ 0.99887682,  0.96731111,  1.        ,  0.99800229,  1.        ,\n",
       "         1.        ,  1.        ,  1.        ,  1.        ,  1.        ,\n",
       "         1.        ,  1.        ]),\n",
       " 'param_C': masked_array(data = [1 1 10 10 100 100 1000 1000 1 10 100 1000],\n",
       "              mask = [False False False False False False False False False False False False],\n",
       "        fill_value = ?),\n",
       " 'param_gamma': masked_array(data = [0.001 0.0001 0.001 0.0001 0.001 0.0001 0.001 0.0001 -- -- -- --],\n",
       "              mask = [False False False False False False False False  True  True  True  True],\n",
       "        fill_value = ?),\n",
       " 'param_kernel': masked_array(data = ['rbf' 'rbf' 'rbf' 'rbf' 'rbf' 'rbf' 'rbf' 'rbf' 'linear' 'linear' 'linear'\n",
       "  'linear'],\n",
       "              mask = [False False False False False False False False False False False False],\n",
       "        fill_value = ?),\n",
       " 'params': ({'C': 1, 'gamma': 0.001, 'kernel': 'rbf'},\n",
       "  {'C': 1, 'gamma': 0.0001, 'kernel': 'rbf'},\n",
       "  {'C': 10, 'gamma': 0.001, 'kernel': 'rbf'},\n",
       "  {'C': 10, 'gamma': 0.0001, 'kernel': 'rbf'},\n",
       "  {'C': 100, 'gamma': 0.001, 'kernel': 'rbf'},\n",
       "  {'C': 100, 'gamma': 0.0001, 'kernel': 'rbf'},\n",
       "  {'C': 1000, 'gamma': 0.001, 'kernel': 'rbf'},\n",
       "  {'C': 1000, 'gamma': 0.0001, 'kernel': 'rbf'},\n",
       "  {'C': 1, 'kernel': 'linear'},\n",
       "  {'C': 10, 'kernel': 'linear'},\n",
       "  {'C': 100, 'kernel': 'linear'},\n",
       "  {'C': 1000, 'kernel': 'linear'}),\n",
       " 'rank_test_score': array([ 4, 12,  1,  7,  1,  5,  1,  5,  8,  8,  8,  8], dtype=int32),\n",
       " 'split0_test_score': array([ 0.99444015,  0.97790287,  0.99444015,  0.99440559,  0.99444015,\n",
       "         0.98900019,  0.99444015,  0.98900019,  0.9726792 ,  0.9726792 ,\n",
       "         0.9726792 ,  0.9726792 ]),\n",
       " 'split0_train_score': array([ 0.99859092,  0.96475314,  1.        ,  0.99859092,  1.        ,\n",
       "         1.        ,  1.        ,  1.        ,  1.        ,  1.        ,\n",
       "         1.        ,  1.        ]),\n",
       " 'split1_test_score': array([ 0.98829347,  0.96045227,  0.98829347,  0.97699416,  0.98829347,\n",
       "         0.98283702,  0.98829347,  0.98283702,  0.9766789 ,  0.9766789 ,\n",
       "         0.9766789 ,  0.9766789 ]),\n",
       " 'split1_train_score': array([ 1.        ,  0.96321116,  1.        ,  0.99706184,  1.        ,\n",
       "         1.        ,  1.        ,  1.        ,  1.        ,  1.        ,\n",
       "         1.        ,  1.        ]),\n",
       " 'split2_test_score': array([ 0.96876957,  0.94528263,  0.96876957,  0.9628626 ,  0.96876957,\n",
       "         0.95652732,  0.96876957,  0.95652732,  0.96215553,  0.96215553,\n",
       "         0.96215553,  0.96215553]),\n",
       " 'split2_train_score': array([ 0.99859092,  0.96311365,  1.        ,  0.99715642,  1.        ,\n",
       "         1.        ,  1.        ,  1.        ,  1.        ,  1.        ,\n",
       "         1.        ,  1.        ]),\n",
       " 'split3_test_score': array([ 0.98260084,  0.93617259,  0.98902737,  0.97063147,  0.98902737,\n",
       "         0.98347181,  0.98902737,  0.98347181,  0.97042428,  0.97042428,\n",
       "         0.97042428,  0.97042428]),\n",
       " 'split3_train_score': array([ 0.99860112,  0.97769127,  1.        ,  0.99860112,  1.        ,\n",
       "         1.        ,  1.        ,  1.        ,  1.        ,  1.        ,\n",
       "         1.        ,  1.        ]),\n",
       " 'split4_test_score': array([ 0.99369458,  0.96476554,  0.99407149,  1.        ,  0.99407149,\n",
       "         0.99393939,  0.99407149,  0.99393939,  0.98182808,  0.98182808,\n",
       "         0.98182808,  0.98182808]),\n",
       " 'split4_train_score': array([ 0.99860112,  0.96778631,  1.        ,  0.99860112,  1.        ,\n",
       "         1.        ,  1.        ,  1.        ,  1.        ,  1.        ,\n",
       "         1.        ,  1.        ]),\n",
       " 'std_fit_time': array([ 0.00551613,  0.00190186,  0.00231676,  0.00035905,  0.00224656,\n",
       "         0.0008283 ,  0.00179945,  0.00093859,  0.00176529,  0.00098075,\n",
       "         0.00167893,  0.00168334]),\n",
       " 'std_score_time': array([ 0.00141438,  0.00137166,  0.00076374,  0.00083657,  0.00151334,\n",
       "         0.00127877,  0.00125316,  0.00112052,  0.00112887,  0.00066068,\n",
       "         0.00140081,  0.00086347]),\n",
       " 'std_test_score': array([ 0.00940658,  0.0147182 ,  0.00940629,  0.01405381,  0.00940629,\n",
       "         0.01292718,  0.00940629,  0.01292718,  0.00653659,  0.00653659,\n",
       "         0.00653659,  0.00653659]),\n",
       " 'std_train_score': array([ 0.00056161,  0.00545793,  0.        ,  0.00072988,  0.        ,\n",
       "         0.        ,  0.        ,  0.        ,  0.        ,  0.        ,\n",
       "         0.        ,  0.        ])}"
      ]
     },
     "execution_count": 5,
     "metadata": {},
     "output_type": "execute_result"
    }
   ],
   "source": [
    "clf.cv_results_"
   ]
  },
  {
   "cell_type": "code",
   "execution_count": 7,
   "metadata": {
    "collapsed": false,
    "deletable": true,
    "editable": true
   },
   "outputs": [
    {
     "name": "stdout",
     "output_type": "stream",
     "text": [
      "             precision    recall  f1-score   support\n",
      "\n",
      "          0       1.00      1.00      1.00        89\n",
      "          1       0.97      1.00      0.98        90\n",
      "          2       0.99      0.98      0.98        92\n",
      "          3       1.00      0.99      0.99        93\n",
      "          4       1.00      1.00      1.00        76\n",
      "          5       0.99      0.98      0.99       108\n",
      "          6       0.99      1.00      0.99        89\n",
      "          7       0.99      1.00      0.99        78\n",
      "          8       1.00      0.98      0.99        92\n",
      "          9       0.99      0.99      0.99        92\n",
      "\n",
      "avg / total       0.99      0.99      0.99       899\n",
      "\n"
     ]
    }
   ],
   "source": [
    "y_true, y_pred = y_test, clf.predict(X_test)\n",
    "print classification_report(y_true, y_pred)"
   ]
  },
  {
   "cell_type": "code",
   "execution_count": 6,
   "metadata": {
    "collapsed": false
   },
   "outputs": [
    {
     "data": {
      "text/plain": [
       "['std_train_score',\n",
       " 'rank_test_score',\n",
       " 'split4_test_score',\n",
       " 'param_gamma',\n",
       " 'param_C',\n",
       " 'split2_train_score',\n",
       " 'std_score_time',\n",
       " 'split4_train_score',\n",
       " 'split2_test_score',\n",
       " 'mean_score_time',\n",
       " 'mean_fit_time',\n",
       " 'split3_train_score',\n",
       " 'split0_train_score',\n",
       " 'std_test_score',\n",
       " 'split1_train_score',\n",
       " 'split0_test_score',\n",
       " 'mean_test_score',\n",
       " 'param_kernel',\n",
       " 'params',\n",
       " 'std_fit_time',\n",
       " 'split3_test_score',\n",
       " 'mean_train_score',\n",
       " 'split1_test_score']"
      ]
     },
     "execution_count": 6,
     "metadata": {},
     "output_type": "execute_result"
    }
   ],
   "source": [
    "clf.cv_results_.keys()"
   ]
  },
  {
   "cell_type": "code",
   "execution_count": 8,
   "metadata": {
    "collapsed": false,
    "deletable": true,
    "editable": true
   },
   "outputs": [
    {
     "name": "stdout",
     "output_type": "stream",
     "text": [
      "{'kernel': 'rbf', 'C': 1, 'gamma': 0.001} 0.985584530844\n",
      "{'kernel': 'rbf', 'C': 1, 'gamma': 0.0001} 0.957017352561\n",
      "{'kernel': 'rbf', 'C': 10, 'gamma': 0.001} 0.986932256371\n",
      "{'kernel': 'rbf', 'C': 10, 'gamma': 0.0001} 0.980973238881\n",
      "{'kernel': 'rbf', 'C': 100, 'gamma': 0.001} 0.986932256371\n",
      "{'kernel': 'rbf', 'C': 100, 'gamma': 0.0001} 0.981150421585\n",
      "{'kernel': 'rbf', 'C': 1000, 'gamma': 0.001} 0.986932256371\n",
      "{'kernel': 'rbf', 'C': 1000, 'gamma': 0.0001} 0.981150421585\n",
      "{'kernel': 'linear', 'C': 1} 0.972738260762\n",
      "{'kernel': 'linear', 'C': 10} 0.972738260762\n",
      "{'kernel': 'linear', 'C': 100} 0.972738260762\n",
      "{'kernel': 'linear', 'C': 1000} 0.972738260762\n"
     ]
    }
   ],
   "source": [
    "for param, score in zip(clf.cv_results_['params'], clf.cv_results_['mean_test_score']):\n",
    "    print param, score"
   ]
  },
  {
   "cell_type": "markdown",
   "metadata": {
    "deletable": true,
    "editable": true
   },
   "source": [
    "## Randomized Search\n",
    "\n",
    "While using a grid of parameter settings is currently the most widely used method for parameter optimization, other search methods have more favourable properties. RandomizedSearchCV implements a randomized search over parameters, where each setting is sampled from a distribution over possible parameter values. This has two main benefits over an exhaustive search:\n",
    "\n",
    "* A budget can be chosen independent of the number of parameters and possible values.\n",
    "* Adding parameters that do not influence the performance does not decrease efficiency.\n",
    "\n",
    "Specifying how parameters should be sampled is done using a dictionary, very similar to specifying parameters for GridSearchCV. Additionally, a computation budget, being the number of sampled candidates or sampling iterations, is specified using the n_iter parameter. For each parameter, either a distribution over possible values or a list of discrete choices (which will be sampled uniformly) can be specified:"
   ]
  },
  {
   "cell_type": "code",
   "execution_count": 9,
   "metadata": {
    "collapsed": false,
    "deletable": true,
    "editable": true
   },
   "outputs": [],
   "source": [
    "import scipy\n",
    "\n",
    "params = {'C': scipy.stats.expon(scale=100), 'gamma': scipy.stats.expon(scale=.1),\n",
    "  'kernel': ['rbf'], 'class_weight':['balanced', None]}"
   ]
  },
  {
   "cell_type": "markdown",
   "metadata": {
    "deletable": true,
    "editable": true
   },
   "source": [
    "This example uses the scipy.stats module, which contains many useful distributions for sampling parameters, such as expon, gamma, uniform or randint. In principle, any function can be passed that provides a rvs (random variate sample) method to sample a value. A call to the rvs function should provide independent random samples from possible parameter values on consecutive calls.\n",
    "\n",
    "For continuous parameters, such as C above, it is important to specify a continuous distribution to take full advantage of the randomization. This way, increasing n_iter will always lead to a finer search."
   ]
  },
  {
   "cell_type": "code",
   "execution_count": 12,
   "metadata": {
    "collapsed": true,
    "deletable": true,
    "editable": true
   },
   "outputs": [],
   "source": [
    "from sklearn.model_selection import RandomizedSearchCV\n",
    "\n",
    "RandomizedSearchCV?"
   ]
  },
  {
   "cell_type": "code",
   "execution_count": 11,
   "metadata": {
    "collapsed": false,
    "deletable": true,
    "editable": true
   },
   "outputs": [
    {
     "name": "stderr",
     "output_type": "stream",
     "text": [
      "/Users/nate/Desktop/scikit-learn-tutorial/env/lib/python2.7/site-packages/sklearn/metrics/classification.py:1113: UndefinedMetricWarning: F-score is ill-defined and being set to 0.0 in labels with no predicted samples.\n",
      "  'precision', 'predicted', average, warn_for)\n"
     ]
    },
    {
     "data": {
      "text/plain": [
       "RandomizedSearchCV(cv=5, error_score='raise',\n",
       "          estimator=SVC(C=1.0, cache_size=200, class_weight=None, coef0=0.0,\n",
       "  decision_function_shape=None, degree=3, gamma='auto', kernel='rbf',\n",
       "  max_iter=-1, probability=False, random_state=None, shrinking=True,\n",
       "  tol=0.001, verbose=False),\n",
       "          fit_params={}, iid=True, n_iter=10, n_jobs=1,\n",
       "          param_distributions={'kernel': ['rbf'], 'C': <scipy.stats._distn_infrastructure.rv_frozen object at 0x10631af10>, 'gamma': <scipy.stats._distn_infrastructure.rv_frozen object at 0x1095a90d0>, 'class_weight': ['balanced', None]},\n",
       "          pre_dispatch='2*n_jobs', random_state=None, refit=True,\n",
       "          return_train_score=True, scoring='f1_macro', verbose=0)"
      ]
     },
     "execution_count": 11,
     "metadata": {},
     "output_type": "execute_result"
    }
   ],
   "source": [
    "clf = RandomizedSearchCV(SVC(), params, cv=5,\n",
    "                       scoring='f1_macro')\n",
    "clf.fit(X_train, y_train)"
   ]
  },
  {
   "cell_type": "code",
   "execution_count": 13,
   "metadata": {
    "collapsed": false,
    "deletable": true,
    "editable": true
   },
   "outputs": [
    {
     "data": {
      "text/plain": [
       "{'C': 77.66272238664412,\n",
       " 'class_weight': 'balanced',\n",
       " 'gamma': 0.005068411787780897,\n",
       " 'kernel': 'rbf'}"
      ]
     },
     "execution_count": 13,
     "metadata": {},
     "output_type": "execute_result"
    }
   ],
   "source": [
    "clf.best_params_\n"
   ]
  },
  {
   "cell_type": "code",
   "execution_count": 14,
   "metadata": {
    "collapsed": false,
    "deletable": true,
    "editable": true
   },
   "outputs": [
    {
     "data": {
      "text/plain": [
       "{'mean_fit_time': array([ 0.16069083,  0.14710426,  0.13715243,  0.14030814,  0.15247364,\n",
       "         0.13619647,  0.14480162,  0.162533  ,  0.15331717,  0.1470336 ]),\n",
       " 'mean_score_time': array([ 0.0197228 ,  0.01762419,  0.01764722,  0.01734538,  0.0189888 ,\n",
       "         0.01650276,  0.01705256,  0.01957798,  0.01750913,  0.01967664]),\n",
       " 'mean_test_score': array([ 0.02093678,  0.02093678,  0.40259223,  0.07258202,  0.02093678,\n",
       "         0.95238736,  0.02516369,  0.02516369,  0.02093678,  0.02093678]),\n",
       " 'mean_train_score': array([ 1.,  1.,  1.,  1.,  1.,  1.,  1.,  1.,  1.,  1.]),\n",
       " 'param_C': masked_array(data = [197.43804316699695 66.457135213559567 177.34863184477223\n",
       "  246.38577363335213 106.14275113094149 77.66272238664412 544.70767720523997\n",
       "  17.176008353499572 97.301699633849807 5.0170210293950577],\n",
       "              mask = [False False False False False False False False False False],\n",
       "        fill_value = ?),\n",
       " 'param_class_weight': masked_array(data = [None None None None 'balanced' 'balanced' 'balanced' 'balanced' None None],\n",
       "              mask = [False False False False False False False False False False],\n",
       "        fill_value = ?),\n",
       " 'param_gamma': masked_array(data = [0.06685665237888809 0.052735834620258396 0.012859019553229155\n",
       "  0.024434327856707762 0.055239367053976862 0.005068411787780897\n",
       "  0.047295948666685128 0.047877537276124066 0.065282190141343288\n",
       "  0.19937148031345198],\n",
       "              mask = [False False False False False False False False False False],\n",
       "        fill_value = ?),\n",
       " 'param_kernel': masked_array(data = ['rbf' 'rbf' 'rbf' 'rbf' 'rbf' 'rbf' 'rbf' 'rbf' 'rbf' 'rbf'],\n",
       "              mask = [False False False False False False False False False False],\n",
       "        fill_value = ?),\n",
       " 'params': ({'C': 197.43804316699695,\n",
       "   'class_weight': None,\n",
       "   'gamma': 0.06685665237888809,\n",
       "   'kernel': 'rbf'},\n",
       "  {'C': 66.457135213559567,\n",
       "   'class_weight': None,\n",
       "   'gamma': 0.052735834620258396,\n",
       "   'kernel': 'rbf'},\n",
       "  {'C': 177.34863184477223,\n",
       "   'class_weight': None,\n",
       "   'gamma': 0.012859019553229155,\n",
       "   'kernel': 'rbf'},\n",
       "  {'C': 246.38577363335213,\n",
       "   'class_weight': None,\n",
       "   'gamma': 0.024434327856707762,\n",
       "   'kernel': 'rbf'},\n",
       "  {'C': 106.14275113094149,\n",
       "   'class_weight': 'balanced',\n",
       "   'gamma': 0.055239367053976862,\n",
       "   'kernel': 'rbf'},\n",
       "  {'C': 77.66272238664412,\n",
       "   'class_weight': 'balanced',\n",
       "   'gamma': 0.005068411787780897,\n",
       "   'kernel': 'rbf'},\n",
       "  {'C': 544.70767720523997,\n",
       "   'class_weight': 'balanced',\n",
       "   'gamma': 0.047295948666685128,\n",
       "   'kernel': 'rbf'},\n",
       "  {'C': 17.176008353499572,\n",
       "   'class_weight': 'balanced',\n",
       "   'gamma': 0.047877537276124066,\n",
       "   'kernel': 'rbf'},\n",
       "  {'C': 97.301699633849807,\n",
       "   'class_weight': None,\n",
       "   'gamma': 0.065282190141343288,\n",
       "   'kernel': 'rbf'},\n",
       "  {'C': 5.0170210293950577,\n",
       "   'class_weight': None,\n",
       "   'gamma': 0.19937148031345198,\n",
       "   'kernel': 'rbf'}),\n",
       " 'rank_test_score': array([6, 6, 2, 3, 6, 1, 4, 4, 6, 6], dtype=int32),\n",
       " 'split0_test_score': array([ 0.02058824,  0.02058824,  0.35179785,  0.05046946,  0.02058824,\n",
       "         0.98400725,  0.02058824,  0.02058824,  0.02058824,  0.02058824]),\n",
       " 'split0_train_score': array([ 1.,  1.,  1.,  1.,  1.,  1.,  1.,  1.,  1.,  1.]),\n",
       " 'split1_test_score': array([ 0.02068966,  0.02068966,  0.42040094,  0.04957143,  0.02068966,\n",
       "         0.96617985,  0.02068966,  0.02068966,  0.02068966,  0.02068966]),\n",
       " 'split1_train_score': array([ 1.,  1.,  1.,  1.,  1.,  1.,  1.,  1.,  1.,  1.]),\n",
       " 'split2_test_score': array([ 0.021     ,  0.021     ,  0.40724356,  0.0916216 ,  0.021     ,\n",
       "         0.91816514,  0.03163184,  0.03163184,  0.021     ,  0.021     ]),\n",
       " 'split2_train_score': array([ 1.,  1.,  1.,  1.,  1.,  1.,  1.,  1.,  1.,  1.]),\n",
       " 'split3_test_score': array([ 0.02110553,  0.02110553,  0.46291321,  0.0846876 ,  0.02110553,\n",
       "         0.96043828,  0.03173844,  0.03173844,  0.02110553,  0.02110553]),\n",
       " 'split3_train_score': array([ 1.,  1.,  1.,  1.,  1.,  1.,  1.,  1.,  1.,  1.]),\n",
       " 'split4_test_score': array([ 0.0213198 ,  0.0213198 ,  0.37125397,  0.08776183,  0.0213198 ,\n",
       "         0.93191031,  0.0213198 ,  0.0213198 ,  0.0213198 ,  0.0213198 ]),\n",
       " 'split4_train_score': array([ 1.,  1.,  1.,  1.,  1.,  1.,  1.,  1.,  1.,  1.]),\n",
       " 'std_fit_time': array([ 0.02069089,  0.00235258,  0.0024473 ,  0.00197469,  0.00717133,\n",
       "         0.00247333,  0.00145724,  0.0090326 ,  0.01303271,  0.00461728]),\n",
       " 'std_score_time': array([ 0.00524606,  0.00176039,  0.00104447,  0.00083255,  0.00227619,\n",
       "         0.00133127,  0.00093821,  0.00271674,  0.00141548,  0.00057227]),\n",
       " 'std_test_score': array([ 0.00026894,  0.00026894,  0.03883419,  0.01879961,  0.00026894,\n",
       "         0.02389106,  0.00530348,  0.00530348,  0.00026894,  0.00026894]),\n",
       " 'std_train_score': array([ 0.,  0.,  0.,  0.,  0.,  0.,  0.,  0.,  0.,  0.])}"
      ]
     },
     "execution_count": 14,
     "metadata": {},
     "output_type": "execute_result"
    }
   ],
   "source": [
    "clf.cv_results_"
   ]
  },
  {
   "cell_type": "code",
   "execution_count": 15,
   "metadata": {
    "collapsed": false,
    "deletable": true,
    "editable": true
   },
   "outputs": [
    {
     "name": "stdout",
     "output_type": "stream",
     "text": [
      "             precision    recall  f1-score   support\n",
      "\n",
      "          0       1.00      0.98      0.99        89\n",
      "          1       1.00      0.98      0.99        90\n",
      "          2       1.00      0.95      0.97        92\n",
      "          3       0.99      0.95      0.97        93\n",
      "          4       0.99      1.00      0.99        76\n",
      "          5       1.00      0.94      0.97       108\n",
      "          6       1.00      0.94      0.97        89\n",
      "          7       1.00      0.99      0.99        78\n",
      "          8       0.80      0.98      0.88        92\n",
      "          9       0.94      0.98      0.96        92\n",
      "\n",
      "avg / total       0.97      0.97      0.97       899\n",
      "\n"
     ]
    }
   ],
   "source": [
    "y_true, y_pred = y_test, clf.predict(X_test)\n",
    "print classification_report(y_true, y_pred)"
   ]
  },
  {
   "cell_type": "code",
   "execution_count": 16,
   "metadata": {
    "collapsed": false,
    "deletable": true,
    "editable": true
   },
   "outputs": [
    {
     "name": "stdout",
     "output_type": "stream",
     "text": [
      "{'kernel': 'rbf', 'C': 197.43804316699695, 'gamma': 0.06685665237888809, 'class_weight': None} 0.0209367845031\n",
      "{'kernel': 'rbf', 'C': 66.457135213559567, 'gamma': 0.052735834620258396, 'class_weight': None} 0.0209367845031\n",
      "{'kernel': 'rbf', 'C': 177.34863184477223, 'gamma': 0.012859019553229155, 'class_weight': None} 0.402592233575\n",
      "{'kernel': 'rbf', 'C': 246.38577363335213, 'gamma': 0.024434327856707762, 'class_weight': None} 0.0725820179991\n",
      "{'kernel': 'rbf', 'C': 106.14275113094149, 'gamma': 0.055239367053976862, 'class_weight': 'balanced'} 0.0209367845031\n",
      "{'kernel': 'rbf', 'C': 77.66272238664412, 'gamma': 0.005068411787780897, 'class_weight': 'balanced'} 0.952387358855\n",
      "{'kernel': 'rbf', 'C': 544.70767720523997, 'gamma': 0.047295948666685128, 'class_weight': 'balanced'} 0.0251636863296\n",
      "{'kernel': 'rbf', 'C': 17.176008353499572, 'gamma': 0.047877537276124066, 'class_weight': 'balanced'} 0.0251636863296\n",
      "{'kernel': 'rbf', 'C': 97.301699633849807, 'gamma': 0.065282190141343288, 'class_weight': None} 0.0209367845031\n",
      "{'kernel': 'rbf', 'C': 5.0170210293950577, 'gamma': 0.19937148031345198, 'class_weight': None} 0.0209367845031\n"
     ]
    }
   ],
   "source": [
    "for param, score in zip(clf.cv_results_['params'], clf.cv_results_['mean_test_score']):\n",
    "    print param, score"
   ]
  },
  {
   "cell_type": "markdown",
   "metadata": {
    "deletable": true,
    "editable": true
   },
   "source": [
    "Don't forget the old _CV classes that are faster than gridsearch! And also don't forget about OOB error that can be a great proxy"
   ]
  },
  {
   "cell_type": "code",
   "execution_count": null,
   "metadata": {
    "collapsed": true,
    "deletable": true,
    "editable": true
   },
   "outputs": [],
   "source": []
  }
 ],
 "metadata": {
  "kernelspec": {
   "display_name": "Python 2",
   "language": "python",
   "name": "python2"
  },
  "language_info": {
   "codemirror_mode": {
    "name": "ipython",
    "version": 2
   },
   "file_extension": ".py",
   "mimetype": "text/x-python",
   "name": "python",
   "nbconvert_exporter": "python",
   "pygments_lexer": "ipython2",
   "version": "2.7.10"
  }
 },
 "nbformat": 4,
 "nbformat_minor": 2
}
